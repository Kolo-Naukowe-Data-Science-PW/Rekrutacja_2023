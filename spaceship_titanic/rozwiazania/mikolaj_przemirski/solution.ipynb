{
 "cells": [
  {
   "cell_type": "code",
   "execution_count": 1,
   "id": "initial_id",
   "metadata": {
    "ExecuteTime": {
     "end_time": "2023-10-18T13:39:21.234365700Z",
     "start_time": "2023-10-18T13:39:20.755980Z"
    }
   },
   "outputs": [],
   "source": [
    "import numpy as np\n",
    "import pandas as pd\n",
    "import seaborn as sns\n",
    "import matplotlib.pyplot as plt\n",
    "\n",
    "from sklearn.model_selection import train_test_split, GridSearchCV\n",
    "from sklearn.ensemble import RandomForestClassifier\n",
    "from sklearn.metrics import accuracy_score, precision_score, recall_score, f1_score, roc_curve, RocCurveDisplay, auc\n",
    "from sklearn.preprocessing import MinMaxScaler"
   ]
  },
  {
   "cell_type": "code",
   "execution_count": 2,
   "id": "5cf5876bdd4f9b07",
   "metadata": {
    "ExecuteTime": {
     "end_time": "2023-10-18T13:39:21.340756100Z",
     "start_time": "2023-10-18T13:39:21.235365700Z"
    }
   },
   "outputs": [
    {
     "data": {
      "text/plain": "     PassengerId HomePlanet CryoSleep     Cabin    Destination   Age    VIP  \\\n0        0001_01     Europa     False     B/0/P    TRAPPIST-1e  39.0  False   \n1        0002_01      Earth     False     F/0/S    TRAPPIST-1e  24.0  False   \n2        0003_01     Europa     False     A/0/S    TRAPPIST-1e  58.0   True   \n3        0003_02     Europa     False     A/0/S    TRAPPIST-1e  33.0  False   \n4        0004_01      Earth     False     F/1/S    TRAPPIST-1e  16.0  False   \n...          ...        ...       ...       ...            ...   ...    ...   \n8688     9276_01     Europa     False    A/98/P    55 Cancri e  41.0   True   \n8689     9278_01      Earth      True  G/1499/S  PSO J318.5-22  18.0  False   \n8690     9279_01      Earth     False  G/1500/S    TRAPPIST-1e  26.0  False   \n8691     9280_01     Europa     False   E/608/S    55 Cancri e  32.0  False   \n8692     9280_02     Europa     False   E/608/S    TRAPPIST-1e  44.0  False   \n\n      RoomService  FoodCourt  ShoppingMall     Spa  VRDeck               Name  \\\n0             0.0        0.0           0.0     0.0     0.0    Maham Ofracculy   \n1           109.0        9.0          25.0   549.0    44.0       Juanna Vines   \n2            43.0     3576.0           0.0  6715.0    49.0      Altark Susent   \n3             0.0     1283.0         371.0  3329.0   193.0       Solam Susent   \n4           303.0       70.0         151.0   565.0     2.0  Willy Santantines   \n...           ...        ...           ...     ...     ...                ...   \n8688          0.0     6819.0           0.0  1643.0    74.0  Gravior Noxnuther   \n8689          0.0        0.0           0.0     0.0     0.0    Kurta Mondalley   \n8690          0.0        0.0        1872.0     1.0     0.0       Fayey Connon   \n8691          0.0     1049.0           0.0   353.0  3235.0   Celeon Hontichre   \n8692        126.0     4688.0           0.0     0.0    12.0   Propsh Hontichre   \n\n      Transported  \n0           False  \n1            True  \n2           False  \n3           False  \n4            True  \n...           ...  \n8688        False  \n8689        False  \n8690         True  \n8691        False  \n8692         True  \n\n[8693 rows x 14 columns]",
      "text/html": "<div>\n<style scoped>\n    .dataframe tbody tr th:only-of-type {\n        vertical-align: middle;\n    }\n\n    .dataframe tbody tr th {\n        vertical-align: top;\n    }\n\n    .dataframe thead th {\n        text-align: right;\n    }\n</style>\n<table border=\"1\" class=\"dataframe\">\n  <thead>\n    <tr style=\"text-align: right;\">\n      <th></th>\n      <th>PassengerId</th>\n      <th>HomePlanet</th>\n      <th>CryoSleep</th>\n      <th>Cabin</th>\n      <th>Destination</th>\n      <th>Age</th>\n      <th>VIP</th>\n      <th>RoomService</th>\n      <th>FoodCourt</th>\n      <th>ShoppingMall</th>\n      <th>Spa</th>\n      <th>VRDeck</th>\n      <th>Name</th>\n      <th>Transported</th>\n    </tr>\n  </thead>\n  <tbody>\n    <tr>\n      <th>0</th>\n      <td>0001_01</td>\n      <td>Europa</td>\n      <td>False</td>\n      <td>B/0/P</td>\n      <td>TRAPPIST-1e</td>\n      <td>39.0</td>\n      <td>False</td>\n      <td>0.0</td>\n      <td>0.0</td>\n      <td>0.0</td>\n      <td>0.0</td>\n      <td>0.0</td>\n      <td>Maham Ofracculy</td>\n      <td>False</td>\n    </tr>\n    <tr>\n      <th>1</th>\n      <td>0002_01</td>\n      <td>Earth</td>\n      <td>False</td>\n      <td>F/0/S</td>\n      <td>TRAPPIST-1e</td>\n      <td>24.0</td>\n      <td>False</td>\n      <td>109.0</td>\n      <td>9.0</td>\n      <td>25.0</td>\n      <td>549.0</td>\n      <td>44.0</td>\n      <td>Juanna Vines</td>\n      <td>True</td>\n    </tr>\n    <tr>\n      <th>2</th>\n      <td>0003_01</td>\n      <td>Europa</td>\n      <td>False</td>\n      <td>A/0/S</td>\n      <td>TRAPPIST-1e</td>\n      <td>58.0</td>\n      <td>True</td>\n      <td>43.0</td>\n      <td>3576.0</td>\n      <td>0.0</td>\n      <td>6715.0</td>\n      <td>49.0</td>\n      <td>Altark Susent</td>\n      <td>False</td>\n    </tr>\n    <tr>\n      <th>3</th>\n      <td>0003_02</td>\n      <td>Europa</td>\n      <td>False</td>\n      <td>A/0/S</td>\n      <td>TRAPPIST-1e</td>\n      <td>33.0</td>\n      <td>False</td>\n      <td>0.0</td>\n      <td>1283.0</td>\n      <td>371.0</td>\n      <td>3329.0</td>\n      <td>193.0</td>\n      <td>Solam Susent</td>\n      <td>False</td>\n    </tr>\n    <tr>\n      <th>4</th>\n      <td>0004_01</td>\n      <td>Earth</td>\n      <td>False</td>\n      <td>F/1/S</td>\n      <td>TRAPPIST-1e</td>\n      <td>16.0</td>\n      <td>False</td>\n      <td>303.0</td>\n      <td>70.0</td>\n      <td>151.0</td>\n      <td>565.0</td>\n      <td>2.0</td>\n      <td>Willy Santantines</td>\n      <td>True</td>\n    </tr>\n    <tr>\n      <th>...</th>\n      <td>...</td>\n      <td>...</td>\n      <td>...</td>\n      <td>...</td>\n      <td>...</td>\n      <td>...</td>\n      <td>...</td>\n      <td>...</td>\n      <td>...</td>\n      <td>...</td>\n      <td>...</td>\n      <td>...</td>\n      <td>...</td>\n      <td>...</td>\n    </tr>\n    <tr>\n      <th>8688</th>\n      <td>9276_01</td>\n      <td>Europa</td>\n      <td>False</td>\n      <td>A/98/P</td>\n      <td>55 Cancri e</td>\n      <td>41.0</td>\n      <td>True</td>\n      <td>0.0</td>\n      <td>6819.0</td>\n      <td>0.0</td>\n      <td>1643.0</td>\n      <td>74.0</td>\n      <td>Gravior Noxnuther</td>\n      <td>False</td>\n    </tr>\n    <tr>\n      <th>8689</th>\n      <td>9278_01</td>\n      <td>Earth</td>\n      <td>True</td>\n      <td>G/1499/S</td>\n      <td>PSO J318.5-22</td>\n      <td>18.0</td>\n      <td>False</td>\n      <td>0.0</td>\n      <td>0.0</td>\n      <td>0.0</td>\n      <td>0.0</td>\n      <td>0.0</td>\n      <td>Kurta Mondalley</td>\n      <td>False</td>\n    </tr>\n    <tr>\n      <th>8690</th>\n      <td>9279_01</td>\n      <td>Earth</td>\n      <td>False</td>\n      <td>G/1500/S</td>\n      <td>TRAPPIST-1e</td>\n      <td>26.0</td>\n      <td>False</td>\n      <td>0.0</td>\n      <td>0.0</td>\n      <td>1872.0</td>\n      <td>1.0</td>\n      <td>0.0</td>\n      <td>Fayey Connon</td>\n      <td>True</td>\n    </tr>\n    <tr>\n      <th>8691</th>\n      <td>9280_01</td>\n      <td>Europa</td>\n      <td>False</td>\n      <td>E/608/S</td>\n      <td>55 Cancri e</td>\n      <td>32.0</td>\n      <td>False</td>\n      <td>0.0</td>\n      <td>1049.0</td>\n      <td>0.0</td>\n      <td>353.0</td>\n      <td>3235.0</td>\n      <td>Celeon Hontichre</td>\n      <td>False</td>\n    </tr>\n    <tr>\n      <th>8692</th>\n      <td>9280_02</td>\n      <td>Europa</td>\n      <td>False</td>\n      <td>E/608/S</td>\n      <td>TRAPPIST-1e</td>\n      <td>44.0</td>\n      <td>False</td>\n      <td>126.0</td>\n      <td>4688.0</td>\n      <td>0.0</td>\n      <td>0.0</td>\n      <td>12.0</td>\n      <td>Propsh Hontichre</td>\n      <td>True</td>\n    </tr>\n  </tbody>\n</table>\n<p>8693 rows × 14 columns</p>\n</div>"
     },
     "execution_count": 2,
     "metadata": {},
     "output_type": "execute_result"
    }
   ],
   "source": [
    "df = pd.read_csv(\"../dane.csv\")\n",
    "df"
   ]
  },
  {
   "cell_type": "code",
   "execution_count": 3,
   "id": "b8039776c210f8ba",
   "metadata": {
    "ExecuteTime": {
     "end_time": "2023-10-18T13:39:21.555225300Z",
     "start_time": "2023-10-18T13:39:21.340756100Z"
    }
   },
   "outputs": [
    {
     "name": "stdout",
     "output_type": "stream",
     "text": [
      "<class 'pandas.core.frame.DataFrame'>\n",
      "RangeIndex: 8693 entries, 0 to 8692\n",
      "Data columns (total 14 columns):\n",
      " #   Column        Non-Null Count  Dtype  \n",
      "---  ------        --------------  -----  \n",
      " 0   PassengerId   8693 non-null   object \n",
      " 1   HomePlanet    8492 non-null   object \n",
      " 2   CryoSleep     8476 non-null   object \n",
      " 3   Cabin         8494 non-null   object \n",
      " 4   Destination   8511 non-null   object \n",
      " 5   Age           8514 non-null   float64\n",
      " 6   VIP           8490 non-null   object \n",
      " 7   RoomService   8512 non-null   float64\n",
      " 8   FoodCourt     8510 non-null   float64\n",
      " 9   ShoppingMall  8485 non-null   float64\n",
      " 10  Spa           8510 non-null   float64\n",
      " 11  VRDeck        8505 non-null   float64\n",
      " 12  Name          8493 non-null   object \n",
      " 13  Transported   8693 non-null   bool   \n",
      "dtypes: bool(1), float64(6), object(7)\n",
      "memory usage: 891.5+ KB\n"
     ]
    },
    {
     "data": {
      "text/plain": "PassengerId       0\nHomePlanet      201\nCryoSleep       217\nCabin           199\nDestination     182\nAge             179\nVIP             203\nRoomService     181\nFoodCourt       183\nShoppingMall    208\nSpa             183\nVRDeck          188\nName            200\nTransported       0\ndtype: int64"
     },
     "execution_count": 3,
     "metadata": {},
     "output_type": "execute_result"
    }
   ],
   "source": [
    "df.info()\n",
    "df.isna().sum() # liczba pustych komórek"
   ]
  },
  {
   "cell_type": "code",
   "execution_count": 4,
   "id": "a69f46960a695e28",
   "metadata": {
    "ExecuteTime": {
     "end_time": "2023-10-18T13:39:21.586477800Z",
     "start_time": "2023-10-18T13:39:21.397855200Z"
    }
   },
   "outputs": [],
   "source": [
    "df['Age'] = df['Age'].fillna(df['Age'].mean()) # uzupełnienie wieku wartością średnią\n",
    "df[['RoomService', 'FoodCourt', 'ShoppingMall', 'Spa', 'VRDeck']] = df[['RoomService', 'FoodCourt', 'ShoppingMall', 'Spa', 'VRDeck']].fillna(0.0) # uzupełnienie wydatków na statku bazową wartością 0.0"
   ]
  },
  {
   "cell_type": "code",
   "execution_count": 5,
   "id": "20a99ad0130c36a3",
   "metadata": {
    "ExecuteTime": {
     "end_time": "2023-10-18T13:39:21.732823300Z",
     "start_time": "2023-10-18T13:39:21.419407Z"
    }
   },
   "outputs": [],
   "source": [
    "df['Group'] = df['PassengerId'].str.split('_', n=1, expand=True)[0] # stworzenie kolumny z grupą, w której znajduje się pasażer\n",
    "df['MoneySpent'] = np.sum(df[['RoomService', 'FoodCourt', 'ShoppingMall', 'Spa', 'VRDeck']], axis=1) #stworzenie kolumny z sumą wydatków pasażera na statku"
   ]
  },
  {
   "cell_type": "code",
   "execution_count": 6,
   "id": "5cb24702ca46dbb3",
   "metadata": {
    "ExecuteTime": {
     "end_time": "2023-10-18T13:39:21.732823300Z",
     "start_time": "2023-10-18T13:39:21.491205300Z"
    }
   },
   "outputs": [],
   "source": [
    "vip_mean = pd.DataFrame(df.groupby(['VIP'])['MoneySpent'].mean()) # średnia wydatków dla VIPów i nie VIPów\n",
    "vip_level = int(vip_mean['MoneySpent'].iloc[0] + (vip_mean['MoneySpent'].iloc[1] - vip_mean['MoneySpent'].iloc[0])/2) # kwota dla której jest bardziej prawdopodobne, że dany pasażer jest VIPem\n",
    "df['VIP'] = np.where(df['VIP'].isna(), np.where(df['MoneySpent'] >= vip_level, True, False), df['VIP']) # uzupełnienie brakującego statusu VIP na podstawie vip_level"
   ]
  },
  {
   "cell_type": "code",
   "execution_count": 7,
   "outputs": [
    {
     "name": "stdout",
     "output_type": "stream",
     "text": [
      "            MoneySpent\n",
      "CryoSleep             \n",
      "False      2248.299687\n",
      "True          0.000000\n"
     ]
    }
   ],
   "source": [
    "cryo_mean = pd.DataFrame(df.groupby(['CryoSleep'])['MoneySpent'].mean()) # śradnia wydatków dla osób z kriokabiną i bez\n",
    "print(cryo_mean) # ustalenie, że osoby które nie wydały nic na statku prawdopodobnie są w kriokabinie\n",
    "df['CryoSleep'] = np.where(df['CryoSleep'].isna(), np.where(df['CryoSleep'] == 0, True, False), df['CryoSleep']) # uzupełnienie kolumny CryoSleep"
   ],
   "metadata": {
    "collapsed": false,
    "ExecuteTime": {
     "end_time": "2023-10-18T13:39:21.732823300Z",
     "start_time": "2023-10-18T13:39:21.500957900Z"
    }
   },
   "id": "307eb6ff3e3593db"
  },
  {
   "cell_type": "code",
   "execution_count": 8,
   "id": "27aaba2b0aa09a07",
   "metadata": {
    "ExecuteTime": {
     "end_time": "2023-10-18T13:39:21.732823300Z",
     "start_time": "2023-10-18T13:39:21.522646500Z"
    }
   },
   "outputs": [],
   "source": [
    "cabin_column = df['Cabin']\n",
    "df = df.drop(columns=['Cabin'])\n",
    "df[['CabinDeck', 'CabinNum', 'CabinSide']] = cabin_column.str.split('/', expand=True) # rozdzielenie danych o kabinie na poszczególne elementy"
   ]
  },
  {
   "cell_type": "code",
   "execution_count": 9,
   "outputs": [
    {
     "name": "stdout",
     "output_type": "stream",
     "text": [
      "['Europa' nan]\n",
      "['Europa' nan]\n",
      "['Europa' nan]\n",
      "['Mars' 'Europa' nan]\n",
      "['Earth' nan 'Mars' 'Europa']\n",
      "['Earth' 'Mars' nan]\n",
      "['Earth' nan]\n",
      "[nan 'Europa']\n"
     ]
    }
   ],
   "source": [
    "# ustalenie zależności między numerem pokładu, a planetą pochodzenia\n",
    "print(df.loc[df['CabinDeck']=='A']['HomePlanet'].unique())\n",
    "print(df.loc[df['CabinDeck']=='B']['HomePlanet'].unique())\n",
    "print(df.loc[df['CabinDeck']=='C']['HomePlanet'].unique())\n",
    "print(df.loc[df['CabinDeck']=='D']['HomePlanet'].unique())\n",
    "print(df.loc[df['CabinDeck']=='E']['HomePlanet'].unique())\n",
    "print(df.loc[df['CabinDeck']=='F']['HomePlanet'].unique())\n",
    "print(df.loc[df['CabinDeck']=='G']['HomePlanet'].unique())\n",
    "print(df.loc[df['CabinDeck']=='T']['HomePlanet'].unique()) "
   ],
   "metadata": {
    "collapsed": false,
    "ExecuteTime": {
     "end_time": "2023-10-18T13:39:21.764070600Z",
     "start_time": "2023-10-18T13:39:21.555225300Z"
    }
   },
   "id": "3baeaf5b9a5a2ca3"
  },
  {
   "cell_type": "code",
   "execution_count": 10,
   "id": "efaf6eac963c3b19",
   "metadata": {
    "ExecuteTime": {
     "end_time": "2023-10-18T13:39:21.764070600Z",
     "start_time": "2023-10-18T13:39:21.610478100Z"
    }
   },
   "outputs": [],
   "source": [
    "planet_groups = {'A': 'Europa', 'B': 'Europa', 'C': 'Europa', 'G': 'Earth', 'T': 'Europa'}\n",
    "set_planet = lambda x: planet_groups[x] if x in planet_groups.keys() else np.nan\n",
    "df['HomePlanet'] = np.where(df['HomePlanet'].isna(),df['CabinDeck'].apply(set_planet), df['HomePlanet']) # uzupełnienie planety pochodzenia na podstawie numeru pokładu"
   ]
  },
  {
   "cell_type": "code",
   "execution_count": 11,
   "id": "2c84906cb7f3fc9b",
   "metadata": {
    "ExecuteTime": {
     "end_time": "2023-10-18T13:39:21.779695300Z",
     "start_time": "2023-10-18T13:39:21.637947100Z"
    }
   },
   "outputs": [],
   "source": [
    "df['HomePlanet'] = df['HomePlanet'].ffill()\n",
    "df['CabinDeck'] = df['CabinDeck'].ffill()\n",
    "df['CabinNum'] = df['CabinNum'].ffill()\n",
    "df['CabinSide'] = df['CabinSide'].ffill()\n",
    "df['Destination'] = df['Destination'].ffill()\n",
    "df.dropna(inplace=True)"
   ]
  },
  {
   "cell_type": "code",
   "execution_count": 12,
   "id": "95cc015cc5468448",
   "metadata": {
    "ExecuteTime": {
     "end_time": "2023-10-18T13:39:21.779695300Z",
     "start_time": "2023-10-18T13:39:21.681082100Z"
    }
   },
   "outputs": [],
   "source": [
    "df['CabinSide'] = df['CabinSide'].apply(lambda x: 0 if x=='P' else 1)\n",
    "df['CabinDeck'] = df['CabinDeck'].apply(lambda x: ord(x)-77 if x=='T' else ord(x)-65) "
   ]
  },
  {
   "cell_type": "code",
   "execution_count": 13,
   "id": "f1ba9a5de216b36d",
   "metadata": {
    "ExecuteTime": {
     "end_time": "2023-10-18T13:39:21.928863600Z",
     "start_time": "2023-10-18T13:39:21.717194400Z"
    }
   },
   "outputs": [
    {
     "data": {
      "text/plain": "     PassengerId HomePlanet CryoSleep    Destination   Age    VIP  \\\n0        0001_01     Europa     False    TRAPPIST-1e  39.0  False   \n1        0002_01      Earth     False    TRAPPIST-1e  24.0  False   \n2        0003_01     Europa     False    TRAPPIST-1e  58.0   True   \n3        0003_02     Europa     False    TRAPPIST-1e  33.0  False   \n4        0004_01      Earth     False    TRAPPIST-1e  16.0  False   \n...          ...        ...       ...            ...   ...    ...   \n8688     9276_01     Europa     False    55 Cancri e  41.0   True   \n8689     9278_01      Earth      True  PSO J318.5-22  18.0  False   \n8690     9279_01      Earth     False    TRAPPIST-1e  26.0  False   \n8691     9280_01     Europa     False    55 Cancri e  32.0  False   \n8692     9280_02     Europa     False    TRAPPIST-1e  44.0  False   \n\n      RoomService  FoodCourt  ShoppingMall     Spa  VRDeck               Name  \\\n0             0.0        0.0           0.0     0.0     0.0    Maham Ofracculy   \n1           109.0        9.0          25.0   549.0    44.0       Juanna Vines   \n2            43.0     3576.0           0.0  6715.0    49.0      Altark Susent   \n3             0.0     1283.0         371.0  3329.0   193.0       Solam Susent   \n4           303.0       70.0         151.0   565.0     2.0  Willy Santantines   \n...           ...        ...           ...     ...     ...                ...   \n8688          0.0     6819.0           0.0  1643.0    74.0  Gravior Noxnuther   \n8689          0.0        0.0           0.0     0.0     0.0    Kurta Mondalley   \n8690          0.0        0.0        1872.0     1.0     0.0       Fayey Connon   \n8691          0.0     1049.0           0.0   353.0  3235.0   Celeon Hontichre   \n8692        126.0     4688.0           0.0     0.0    12.0   Propsh Hontichre   \n\n      Transported  Group  MoneySpent  CabinDeck CabinNum  CabinSide  \n0           False      1         0.0          1        0          0  \n1            True      2       736.0          5        0          1  \n2           False      3     10383.0          0        0          1  \n3           False      3      5176.0          0        0          1  \n4            True      4      1091.0          5        1          1  \n...           ...    ...         ...        ...      ...        ...  \n8688        False   9276      8536.0          0       98          0  \n8689        False   9278         0.0          6     1499          1  \n8690         True   9279      1873.0          6     1500          1  \n8691        False   9280      4637.0          4      608          1  \n8692         True   9280      4826.0          4      608          1  \n\n[8693 rows x 18 columns]",
      "text/html": "<div>\n<style scoped>\n    .dataframe tbody tr th:only-of-type {\n        vertical-align: middle;\n    }\n\n    .dataframe tbody tr th {\n        vertical-align: top;\n    }\n\n    .dataframe thead th {\n        text-align: right;\n    }\n</style>\n<table border=\"1\" class=\"dataframe\">\n  <thead>\n    <tr style=\"text-align: right;\">\n      <th></th>\n      <th>PassengerId</th>\n      <th>HomePlanet</th>\n      <th>CryoSleep</th>\n      <th>Destination</th>\n      <th>Age</th>\n      <th>VIP</th>\n      <th>RoomService</th>\n      <th>FoodCourt</th>\n      <th>ShoppingMall</th>\n      <th>Spa</th>\n      <th>VRDeck</th>\n      <th>Name</th>\n      <th>Transported</th>\n      <th>Group</th>\n      <th>MoneySpent</th>\n      <th>CabinDeck</th>\n      <th>CabinNum</th>\n      <th>CabinSide</th>\n    </tr>\n  </thead>\n  <tbody>\n    <tr>\n      <th>0</th>\n      <td>0001_01</td>\n      <td>Europa</td>\n      <td>False</td>\n      <td>TRAPPIST-1e</td>\n      <td>39.0</td>\n      <td>False</td>\n      <td>0.0</td>\n      <td>0.0</td>\n      <td>0.0</td>\n      <td>0.0</td>\n      <td>0.0</td>\n      <td>Maham Ofracculy</td>\n      <td>False</td>\n      <td>1</td>\n      <td>0.0</td>\n      <td>1</td>\n      <td>0</td>\n      <td>0</td>\n    </tr>\n    <tr>\n      <th>1</th>\n      <td>0002_01</td>\n      <td>Earth</td>\n      <td>False</td>\n      <td>TRAPPIST-1e</td>\n      <td>24.0</td>\n      <td>False</td>\n      <td>109.0</td>\n      <td>9.0</td>\n      <td>25.0</td>\n      <td>549.0</td>\n      <td>44.0</td>\n      <td>Juanna Vines</td>\n      <td>True</td>\n      <td>2</td>\n      <td>736.0</td>\n      <td>5</td>\n      <td>0</td>\n      <td>1</td>\n    </tr>\n    <tr>\n      <th>2</th>\n      <td>0003_01</td>\n      <td>Europa</td>\n      <td>False</td>\n      <td>TRAPPIST-1e</td>\n      <td>58.0</td>\n      <td>True</td>\n      <td>43.0</td>\n      <td>3576.0</td>\n      <td>0.0</td>\n      <td>6715.0</td>\n      <td>49.0</td>\n      <td>Altark Susent</td>\n      <td>False</td>\n      <td>3</td>\n      <td>10383.0</td>\n      <td>0</td>\n      <td>0</td>\n      <td>1</td>\n    </tr>\n    <tr>\n      <th>3</th>\n      <td>0003_02</td>\n      <td>Europa</td>\n      <td>False</td>\n      <td>TRAPPIST-1e</td>\n      <td>33.0</td>\n      <td>False</td>\n      <td>0.0</td>\n      <td>1283.0</td>\n      <td>371.0</td>\n      <td>3329.0</td>\n      <td>193.0</td>\n      <td>Solam Susent</td>\n      <td>False</td>\n      <td>3</td>\n      <td>5176.0</td>\n      <td>0</td>\n      <td>0</td>\n      <td>1</td>\n    </tr>\n    <tr>\n      <th>4</th>\n      <td>0004_01</td>\n      <td>Earth</td>\n      <td>False</td>\n      <td>TRAPPIST-1e</td>\n      <td>16.0</td>\n      <td>False</td>\n      <td>303.0</td>\n      <td>70.0</td>\n      <td>151.0</td>\n      <td>565.0</td>\n      <td>2.0</td>\n      <td>Willy Santantines</td>\n      <td>True</td>\n      <td>4</td>\n      <td>1091.0</td>\n      <td>5</td>\n      <td>1</td>\n      <td>1</td>\n    </tr>\n    <tr>\n      <th>...</th>\n      <td>...</td>\n      <td>...</td>\n      <td>...</td>\n      <td>...</td>\n      <td>...</td>\n      <td>...</td>\n      <td>...</td>\n      <td>...</td>\n      <td>...</td>\n      <td>...</td>\n      <td>...</td>\n      <td>...</td>\n      <td>...</td>\n      <td>...</td>\n      <td>...</td>\n      <td>...</td>\n      <td>...</td>\n      <td>...</td>\n    </tr>\n    <tr>\n      <th>8688</th>\n      <td>9276_01</td>\n      <td>Europa</td>\n      <td>False</td>\n      <td>55 Cancri e</td>\n      <td>41.0</td>\n      <td>True</td>\n      <td>0.0</td>\n      <td>6819.0</td>\n      <td>0.0</td>\n      <td>1643.0</td>\n      <td>74.0</td>\n      <td>Gravior Noxnuther</td>\n      <td>False</td>\n      <td>9276</td>\n      <td>8536.0</td>\n      <td>0</td>\n      <td>98</td>\n      <td>0</td>\n    </tr>\n    <tr>\n      <th>8689</th>\n      <td>9278_01</td>\n      <td>Earth</td>\n      <td>True</td>\n      <td>PSO J318.5-22</td>\n      <td>18.0</td>\n      <td>False</td>\n      <td>0.0</td>\n      <td>0.0</td>\n      <td>0.0</td>\n      <td>0.0</td>\n      <td>0.0</td>\n      <td>Kurta Mondalley</td>\n      <td>False</td>\n      <td>9278</td>\n      <td>0.0</td>\n      <td>6</td>\n      <td>1499</td>\n      <td>1</td>\n    </tr>\n    <tr>\n      <th>8690</th>\n      <td>9279_01</td>\n      <td>Earth</td>\n      <td>False</td>\n      <td>TRAPPIST-1e</td>\n      <td>26.0</td>\n      <td>False</td>\n      <td>0.0</td>\n      <td>0.0</td>\n      <td>1872.0</td>\n      <td>1.0</td>\n      <td>0.0</td>\n      <td>Fayey Connon</td>\n      <td>True</td>\n      <td>9279</td>\n      <td>1873.0</td>\n      <td>6</td>\n      <td>1500</td>\n      <td>1</td>\n    </tr>\n    <tr>\n      <th>8691</th>\n      <td>9280_01</td>\n      <td>Europa</td>\n      <td>False</td>\n      <td>55 Cancri e</td>\n      <td>32.0</td>\n      <td>False</td>\n      <td>0.0</td>\n      <td>1049.0</td>\n      <td>0.0</td>\n      <td>353.0</td>\n      <td>3235.0</td>\n      <td>Celeon Hontichre</td>\n      <td>False</td>\n      <td>9280</td>\n      <td>4637.0</td>\n      <td>4</td>\n      <td>608</td>\n      <td>1</td>\n    </tr>\n    <tr>\n      <th>8692</th>\n      <td>9280_02</td>\n      <td>Europa</td>\n      <td>False</td>\n      <td>TRAPPIST-1e</td>\n      <td>44.0</td>\n      <td>False</td>\n      <td>126.0</td>\n      <td>4688.0</td>\n      <td>0.0</td>\n      <td>0.0</td>\n      <td>12.0</td>\n      <td>Propsh Hontichre</td>\n      <td>True</td>\n      <td>9280</td>\n      <td>4826.0</td>\n      <td>4</td>\n      <td>608</td>\n      <td>1</td>\n    </tr>\n  </tbody>\n</table>\n<p>8693 rows × 18 columns</p>\n</div>"
     },
     "execution_count": 13,
     "metadata": {},
     "output_type": "execute_result"
    }
   ],
   "source": [
    "# name_column = df['Name']\n",
    "df = df.drop(columns=['Name', 'PassengerId', 'Group', 'Destination'])"
   ]
  },
  {
   "cell_type": "code",
   "execution_count": 14,
   "id": "ee85a6b68901d48a",
   "metadata": {
    "ExecuteTime": {
     "end_time": "2023-10-18T13:39:21.928863600Z",
     "start_time": "2023-10-18T13:39:21.797052400Z"
    }
   },
   "outputs": [],
   "source": [
    "# df[['FirstName', 'SecondName']] = name_column.str.split(' ', n=1, expand=True)"
   ]
  },
  {
   "cell_type": "code",
   "execution_count": 15,
   "id": "daaf4ce241eb890f",
   "metadata": {
    "ExecuteTime": {
     "end_time": "2023-10-18T13:39:21.958611900Z",
     "start_time": "2023-10-18T13:39:21.815379500Z"
    }
   },
   "outputs": [],
   "source": [
    "ohe_data = pd.get_dummies(df, columns=['HomePlanet'])\n",
    "df = ohe_data"
   ]
  },
  {
   "cell_type": "code",
   "execution_count": 16,
   "id": "84f2f0da8d4245d3",
   "metadata": {
    "ExecuteTime": {
     "end_time": "2023-10-18T13:39:21.958611900Z",
     "start_time": "2023-10-18T13:39:21.840577600Z"
    }
   },
   "outputs": [],
   "source": [
    "target = df['Transported']\n",
    "data = df.drop(columns=['Transported'])"
   ]
  },
  {
   "cell_type": "code",
   "execution_count": 17,
   "id": "8fc8866b776f74f4",
   "metadata": {
    "ExecuteTime": {
     "end_time": "2023-10-18T13:39:21.958611900Z",
     "start_time": "2023-10-18T13:39:21.846885300Z"
    }
   },
   "outputs": [],
   "source": [
    "X_train, X_test, y_train, y_test = train_test_split(data, target, test_size=0.2, random_state=42, shuffle=True)\n",
    "X_train.shape, X_test.shape, y_train.shape, y_test.shape"
   ]
  },
  {
   "cell_type": "code",
   "execution_count": 18,
   "id": "a53bdba1665ca51f",
   "metadata": {
    "ExecuteTime": {
     "end_time": "2023-10-18T13:39:21.958611900Z",
     "start_time": "2023-10-18T13:39:21.861530500Z"
    }
   },
   "outputs": [
    {
     "data": {
      "text/plain": "((7041, 13), (1652, 13), (7041,), (1652,))"
     },
     "execution_count": 18,
     "metadata": {},
     "output_type": "execute_result"
    }
   ],
   "source": [
    "# fig, ax = plt.subplots(figsize=(16, 16))\n",
    "# sns.heatmap(df.corr(), annot=True, ax=ax)"
   ]
  },
  {
   "cell_type": "code",
   "execution_count": 19,
   "id": "aca9b75b25e5cea9",
   "metadata": {
    "ExecuteTime": {
     "end_time": "2023-10-18T13:39:21.958611900Z",
     "start_time": "2023-10-18T13:39:21.881721700Z"
    }
   },
   "outputs": [],
   "source": [
    "scaler = MinMaxScaler()\n",
    "scaler.fit(X_train)\n",
    "X_train = pd.DataFrame(scaler.transform(X_train))\n",
    "X_test = pd.DataFrame(scaler.transform(X_test))"
   ]
  },
  {
   "cell_type": "code",
   "execution_count": 20,
   "id": "ebdb69cb01f2cb26",
   "metadata": {
    "ExecuteTime": {
     "end_time": "2023-10-18T13:39:21.958611900Z",
     "start_time": "2023-10-18T13:39:21.916162100Z"
    }
   },
   "outputs": [],
   "source": [
    "# clf = LogisticRegression()\n",
    "# clf.fit(X_train, y_train)\n",
    "# y_pred = clf.predict(X_test)"
   ]
  },
  {
   "cell_type": "code",
   "execution_count": 21,
   "id": "95a92cd67d3a6ffc",
   "metadata": {
    "ExecuteTime": {
     "end_time": "2023-10-18T13:39:21.958611900Z",
     "start_time": "2023-10-18T13:39:21.928863600Z"
    }
   },
   "outputs": [],
   "source": [
    "param_grid = {'criterion': ['gini'],\n",
    " 'max_depth': [15,16,17],\n",
    " 'max_features': ['sqrt'],\n",
    " 'min_samples_leaf': [2, 3],\n",
    " 'min_samples_split': [3, 4],\n",
    " 'n_estimators': [110, 112, 114]}"
   ]
  },
  {
   "cell_type": "code",
   "execution_count": 22,
   "id": "5fafc31e16750bb1",
   "metadata": {
    "ExecuteTime": {
     "end_time": "2023-10-18T13:39:25.862327900Z",
     "start_time": "2023-10-18T13:39:21.942984600Z"
    }
   },
   "outputs": [],
   "source": [
    "# grid_search = GridSearchCV(estimator=RandomForestClassifier(), param_grid=param_grid, cv=3, n_jobs=-1, verbose=2)\n",
    "# grid_search.fit(X_train, y_train)\n",
    "# grid_search.best_params_"
   ]
  },
  {
   "cell_type": "code",
   "execution_count": 23,
   "id": "9fde3d215dc8f3f8",
   "metadata": {
    "ExecuteTime": {
     "end_time": "2023-10-18T13:39:26.187828900Z",
     "start_time": "2023-10-18T13:39:25.862327900Z"
    }
   },
   "outputs": [
    {
     "name": "stdout",
     "output_type": "stream",
     "text": [
      "0.8002421307506054\n",
      "0.8096969696969697\n",
      "0.7942925089179548\n",
      "0.801920768307323\n"
     ]
    },
    {
     "data": {
      "text/plain": "<Figure size 640x480 with 1 Axes>",
      "image/png": "[encoded data removed]"
     },
     "metadata": {},
     "output_type": "display_data"
    }
   ],
   "source": [
    "# rfc = RandomForestClassifier(criterion='gini', max_depth=15, max_features='sqrt',min_samples_leaf=3,min_samples_split=4,n_estimators=114)\n",
    "# rfc.fit(X_train, y_train)\n",
    "# y_pred = rfc.predict(X_test)"
   ]
  },
  {
   "cell_type": "code",
   "execution_count": 58,
   "id": "227def1e498b882d",
   "metadata": {
    "ExecuteTime": {
     "end_time": "2023-10-17T09:51:05.229513500Z",
     "start_time": "2023-10-17T09:51:04.924681800Z"
    }
   },
   "outputs": [],
   "source": [
    "# print(accuracy_score(y_test, y_pred))\n",
    "# print(precision_score(y_test, y_pred))\n",
    "# print(recall_score(y_test, y_pred))\n",
    "# print(f1_score(y_test, y_pred))\n",
    "# \n",
    "# fpr, tpr, thresholds = roc_curve(y_test, y_pred)\n",
    "# roc_auc = auc(fpr, tpr)\n",
    "# display = RocCurveDisplay(fpr=fpr, tpr=tpr, roc_auc=roc_auc, estimator_name='example estimator')\n",
    "# display.plot()\n",
    "# plt.show()"
   ]
  },
  {
   "cell_type": "code",
   "execution_count": 59,
   "outputs": [],
   "source": [
    "X_train = torch.tensor(X_train.values)\n",
    "X_test = torch.tensor(X_test.values) "
   ],
   "metadata": {
    "collapsed": false,
    "ExecuteTime": {
     "end_time": "2023-10-17T09:51:05.333500300Z",
     "start_time": "2023-10-17T09:51:04.937966900Z"
    }
   },
   "id": "67643f6b650ec94b"
  },
  {
   "cell_type": "code",
   "execution_count": 60,
   "outputs": [
    {
     "name": "stdout",
     "output_type": "stream",
     "text": [
      "ShallowNeuralNetwork(\n",
      "  (hidden): Linear(in_features=15, out_features=15, bias=True)\n",
      "  (output): Linear(in_features=15, out_features=2, bias=True)\n",
      "  (sigmoid): Sigmoid()\n",
      "  (relu): ReLU()\n",
      ")\n"
     ]
    }
   ],
   "source": [
    "class ShallowNeuralNetwork(nn.Module):\n",
    "    def __init__(self, input_num, hidden_num, output_num):\n",
    "        super(ShallowNeuralNetwork, self).__init__()\n",
    "        self.hidden = nn.Linear(input_num, hidden_num) # hidden layer\n",
    "        self.output = nn.Linear(hidden_num, output_num) # output layer\n",
    "        self.sigmoid = nn.Sigmoid() # sigmoid activation function\n",
    "        self.relu = nn.ReLU() # relu activation function\n",
    "    \n",
    "    def forward(self, x):\n",
    "        x = self.relu(self.hidden(x)) \n",
    "        out = self.output(x)\n",
    "        return self.sigmoid(out)\n",
    "\n",
    "input_num = 15\n",
    "hidden_num = 15\n",
    "output_num = 2 # The output should be the same as the number of classes\n",
    "\n",
    "model = ShallowNeuralNetwork(input_num, hidden_num, output_num)\n",
    "model.to(device) # send our model to gpu if available else cpu. \n",
    "print(model)"
   ],
   "metadata": {
    "collapsed": false,
    "ExecuteTime": {
     "end_time": "2023-10-17T09:51:05.397495400Z",
     "start_time": "2023-10-17T09:51:04.954758Z"
    }
   },
   "id": "80cd5d33cf0c9922"
  },
  {
   "cell_type": "code",
   "execution_count": 61,
   "outputs": [],
   "source": [
    "criterion = torch.nn.CrossEntropyLoss()\n",
    "optimizer = torch.optim.SGD(model.parameters(), lr = 0.01)"
   ],
   "metadata": {
    "collapsed": false,
    "ExecuteTime": {
     "end_time": "2023-10-17T09:51:05.397495400Z",
     "start_time": "2023-10-17T09:51:04.982126100Z"
    }
   },
   "id": "78c12d98581d9ab0"
  },
  {
   "cell_type": "code",
   "execution_count": 68,
   "outputs": [
    {
     "ename": "RuntimeError",
     "evalue": "mat1 and mat2 must have the same dtype, but got Double and BFloat16",
     "output_type": "error",
     "traceback": [
      "\u001B[1;31m---------------------------------------------------------------------------\u001B[0m",
      "\u001B[1;31mRuntimeError\u001B[0m                              Traceback (most recent call last)",
      "Cell \u001B[1;32mIn[68], line 16\u001B[0m\n\u001B[0;32m     13\u001B[0m \u001B[38;5;28;01mwith\u001B[39;00m torch\u001B[38;5;241m.\u001B[39mautocast(device_type\u001B[38;5;241m=\u001B[39m\u001B[38;5;124m\"\u001B[39m\u001B[38;5;124mcpu\u001B[39m\u001B[38;5;124m\"\u001B[39m, dtype\u001B[38;5;241m=\u001B[39mtorch\u001B[38;5;241m.\u001B[39mbfloat16):\n\u001B[0;32m     14\u001B[0m     model\u001B[38;5;241m.\u001B[39mtrain()\n\u001B[1;32m---> 16\u001B[0m     y_pred \u001B[38;5;241m=\u001B[39m \u001B[43mmodel\u001B[49m\u001B[43m(\u001B[49m\u001B[43mX_train\u001B[49m\u001B[43m)\u001B[49m\n\u001B[0;32m     17\u001B[0m     pred \u001B[38;5;241m=\u001B[39m np\u001B[38;5;241m.\u001B[39mwhere(y_pred \u001B[38;5;241m>\u001B[39m \u001B[38;5;241m0.5\u001B[39m, \u001B[38;5;241m1\u001B[39m, \u001B[38;5;241m0\u001B[39m)\n\u001B[0;32m     18\u001B[0m     loss \u001B[38;5;241m=\u001B[39m criterion(y_pred, y_train)\n",
      "File \u001B[1;32m~\\PycharmProjects\\Rekrutacja_2023\\data_science_env\\Lib\\site-packages\\torch\\nn\\modules\\module.py:1518\u001B[0m, in \u001B[0;36mModule._wrapped_call_impl\u001B[1;34m(self, *args, **kwargs)\u001B[0m\n\u001B[0;32m   1516\u001B[0m     \u001B[38;5;28;01mreturn\u001B[39;00m \u001B[38;5;28mself\u001B[39m\u001B[38;5;241m.\u001B[39m_compiled_call_impl(\u001B[38;5;241m*\u001B[39margs, \u001B[38;5;241m*\u001B[39m\u001B[38;5;241m*\u001B[39mkwargs)  \u001B[38;5;66;03m# type: ignore[misc]\u001B[39;00m\n\u001B[0;32m   1517\u001B[0m \u001B[38;5;28;01melse\u001B[39;00m:\n\u001B[1;32m-> 1518\u001B[0m     \u001B[38;5;28;01mreturn\u001B[39;00m \u001B[38;5;28;43mself\u001B[39;49m\u001B[38;5;241;43m.\u001B[39;49m\u001B[43m_call_impl\u001B[49m\u001B[43m(\u001B[49m\u001B[38;5;241;43m*\u001B[39;49m\u001B[43margs\u001B[49m\u001B[43m,\u001B[49m\u001B[43m \u001B[49m\u001B[38;5;241;43m*\u001B[39;49m\u001B[38;5;241;43m*\u001B[39;49m\u001B[43mkwargs\u001B[49m\u001B[43m)\u001B[49m\n",
      "File \u001B[1;32m~\\PycharmProjects\\Rekrutacja_2023\\data_science_env\\Lib\\site-packages\\torch\\nn\\modules\\module.py:1527\u001B[0m, in \u001B[0;36mModule._call_impl\u001B[1;34m(self, *args, **kwargs)\u001B[0m\n\u001B[0;32m   1522\u001B[0m \u001B[38;5;66;03m# If we don't have any hooks, we want to skip the rest of the logic in\u001B[39;00m\n\u001B[0;32m   1523\u001B[0m \u001B[38;5;66;03m# this function, and just call forward.\u001B[39;00m\n\u001B[0;32m   1524\u001B[0m \u001B[38;5;28;01mif\u001B[39;00m \u001B[38;5;129;01mnot\u001B[39;00m (\u001B[38;5;28mself\u001B[39m\u001B[38;5;241m.\u001B[39m_backward_hooks \u001B[38;5;129;01mor\u001B[39;00m \u001B[38;5;28mself\u001B[39m\u001B[38;5;241m.\u001B[39m_backward_pre_hooks \u001B[38;5;129;01mor\u001B[39;00m \u001B[38;5;28mself\u001B[39m\u001B[38;5;241m.\u001B[39m_forward_hooks \u001B[38;5;129;01mor\u001B[39;00m \u001B[38;5;28mself\u001B[39m\u001B[38;5;241m.\u001B[39m_forward_pre_hooks\n\u001B[0;32m   1525\u001B[0m         \u001B[38;5;129;01mor\u001B[39;00m _global_backward_pre_hooks \u001B[38;5;129;01mor\u001B[39;00m _global_backward_hooks\n\u001B[0;32m   1526\u001B[0m         \u001B[38;5;129;01mor\u001B[39;00m _global_forward_hooks \u001B[38;5;129;01mor\u001B[39;00m _global_forward_pre_hooks):\n\u001B[1;32m-> 1527\u001B[0m     \u001B[38;5;28;01mreturn\u001B[39;00m \u001B[43mforward_call\u001B[49m\u001B[43m(\u001B[49m\u001B[38;5;241;43m*\u001B[39;49m\u001B[43margs\u001B[49m\u001B[43m,\u001B[49m\u001B[43m \u001B[49m\u001B[38;5;241;43m*\u001B[39;49m\u001B[38;5;241;43m*\u001B[39;49m\u001B[43mkwargs\u001B[49m\u001B[43m)\u001B[49m\n\u001B[0;32m   1529\u001B[0m \u001B[38;5;28;01mtry\u001B[39;00m:\n\u001B[0;32m   1530\u001B[0m     result \u001B[38;5;241m=\u001B[39m \u001B[38;5;28;01mNone\u001B[39;00m\n",
      "Cell \u001B[1;32mIn[60], line 10\u001B[0m, in \u001B[0;36mShallowNeuralNetwork.forward\u001B[1;34m(self, x)\u001B[0m\n\u001B[0;32m      9\u001B[0m \u001B[38;5;28;01mdef\u001B[39;00m \u001B[38;5;21mforward\u001B[39m(\u001B[38;5;28mself\u001B[39m, x):\n\u001B[1;32m---> 10\u001B[0m     x \u001B[38;5;241m=\u001B[39m \u001B[38;5;28mself\u001B[39m\u001B[38;5;241m.\u001B[39mrelu(\u001B[38;5;28;43mself\u001B[39;49m\u001B[38;5;241;43m.\u001B[39;49m\u001B[43mhidden\u001B[49m\u001B[43m(\u001B[49m\u001B[43mx\u001B[49m\u001B[43m)\u001B[49m) \n\u001B[0;32m     11\u001B[0m     out \u001B[38;5;241m=\u001B[39m \u001B[38;5;28mself\u001B[39m\u001B[38;5;241m.\u001B[39moutput(x)\n\u001B[0;32m     12\u001B[0m     \u001B[38;5;28;01mreturn\u001B[39;00m \u001B[38;5;28mself\u001B[39m\u001B[38;5;241m.\u001B[39msigmoid(out)\n",
      "File \u001B[1;32m~\\PycharmProjects\\Rekrutacja_2023\\data_science_env\\Lib\\site-packages\\torch\\nn\\modules\\module.py:1518\u001B[0m, in \u001B[0;36mModule._wrapped_call_impl\u001B[1;34m(self, *args, **kwargs)\u001B[0m\n\u001B[0;32m   1516\u001B[0m     \u001B[38;5;28;01mreturn\u001B[39;00m \u001B[38;5;28mself\u001B[39m\u001B[38;5;241m.\u001B[39m_compiled_call_impl(\u001B[38;5;241m*\u001B[39margs, \u001B[38;5;241m*\u001B[39m\u001B[38;5;241m*\u001B[39mkwargs)  \u001B[38;5;66;03m# type: ignore[misc]\u001B[39;00m\n\u001B[0;32m   1517\u001B[0m \u001B[38;5;28;01melse\u001B[39;00m:\n\u001B[1;32m-> 1518\u001B[0m     \u001B[38;5;28;01mreturn\u001B[39;00m \u001B[38;5;28;43mself\u001B[39;49m\u001B[38;5;241;43m.\u001B[39;49m\u001B[43m_call_impl\u001B[49m\u001B[43m(\u001B[49m\u001B[38;5;241;43m*\u001B[39;49m\u001B[43margs\u001B[49m\u001B[43m,\u001B[49m\u001B[43m \u001B[49m\u001B[38;5;241;43m*\u001B[39;49m\u001B[38;5;241;43m*\u001B[39;49m\u001B[43mkwargs\u001B[49m\u001B[43m)\u001B[49m\n",
      "File \u001B[1;32m~\\PycharmProjects\\Rekrutacja_2023\\data_science_env\\Lib\\site-packages\\torch\\nn\\modules\\module.py:1527\u001B[0m, in \u001B[0;36mModule._call_impl\u001B[1;34m(self, *args, **kwargs)\u001B[0m\n\u001B[0;32m   1522\u001B[0m \u001B[38;5;66;03m# If we don't have any hooks, we want to skip the rest of the logic in\u001B[39;00m\n\u001B[0;32m   1523\u001B[0m \u001B[38;5;66;03m# this function, and just call forward.\u001B[39;00m\n\u001B[0;32m   1524\u001B[0m \u001B[38;5;28;01mif\u001B[39;00m \u001B[38;5;129;01mnot\u001B[39;00m (\u001B[38;5;28mself\u001B[39m\u001B[38;5;241m.\u001B[39m_backward_hooks \u001B[38;5;129;01mor\u001B[39;00m \u001B[38;5;28mself\u001B[39m\u001B[38;5;241m.\u001B[39m_backward_pre_hooks \u001B[38;5;129;01mor\u001B[39;00m \u001B[38;5;28mself\u001B[39m\u001B[38;5;241m.\u001B[39m_forward_hooks \u001B[38;5;129;01mor\u001B[39;00m \u001B[38;5;28mself\u001B[39m\u001B[38;5;241m.\u001B[39m_forward_pre_hooks\n\u001B[0;32m   1525\u001B[0m         \u001B[38;5;129;01mor\u001B[39;00m _global_backward_pre_hooks \u001B[38;5;129;01mor\u001B[39;00m _global_backward_hooks\n\u001B[0;32m   1526\u001B[0m         \u001B[38;5;129;01mor\u001B[39;00m _global_forward_hooks \u001B[38;5;129;01mor\u001B[39;00m _global_forward_pre_hooks):\n\u001B[1;32m-> 1527\u001B[0m     \u001B[38;5;28;01mreturn\u001B[39;00m \u001B[43mforward_call\u001B[49m\u001B[43m(\u001B[49m\u001B[38;5;241;43m*\u001B[39;49m\u001B[43margs\u001B[49m\u001B[43m,\u001B[49m\u001B[43m \u001B[49m\u001B[38;5;241;43m*\u001B[39;49m\u001B[38;5;241;43m*\u001B[39;49m\u001B[43mkwargs\u001B[49m\u001B[43m)\u001B[49m\n\u001B[0;32m   1529\u001B[0m \u001B[38;5;28;01mtry\u001B[39;00m:\n\u001B[0;32m   1530\u001B[0m     result \u001B[38;5;241m=\u001B[39m \u001B[38;5;28;01mNone\u001B[39;00m\n",
      "File \u001B[1;32m~\\PycharmProjects\\Rekrutacja_2023\\data_science_env\\Lib\\site-packages\\torch\\nn\\modules\\linear.py:114\u001B[0m, in \u001B[0;36mLinear.forward\u001B[1;34m(self, input)\u001B[0m\n\u001B[0;32m    113\u001B[0m \u001B[38;5;28;01mdef\u001B[39;00m \u001B[38;5;21mforward\u001B[39m(\u001B[38;5;28mself\u001B[39m, \u001B[38;5;28minput\u001B[39m: Tensor) \u001B[38;5;241m-\u001B[39m\u001B[38;5;241m>\u001B[39m Tensor:\n\u001B[1;32m--> 114\u001B[0m     \u001B[38;5;28;01mreturn\u001B[39;00m \u001B[43mF\u001B[49m\u001B[38;5;241;43m.\u001B[39;49m\u001B[43mlinear\u001B[49m\u001B[43m(\u001B[49m\u001B[38;5;28;43minput\u001B[39;49m\u001B[43m,\u001B[49m\u001B[43m \u001B[49m\u001B[38;5;28;43mself\u001B[39;49m\u001B[38;5;241;43m.\u001B[39;49m\u001B[43mweight\u001B[49m\u001B[43m,\u001B[49m\u001B[43m \u001B[49m\u001B[38;5;28;43mself\u001B[39;49m\u001B[38;5;241;43m.\u001B[39;49m\u001B[43mbias\u001B[49m\u001B[43m)\u001B[49m\n",
      "\u001B[1;31mRuntimeError\u001B[0m: mat1 and mat2 must have the same dtype, but got Double and BFloat16"
     ]
    }
   ],
   "source": [
    "if torch.cuda.is_available():\n",
    "    X_train = Variable(X_train).cuda()\n",
    "    y_train = Variable(y_train).cuda()\n",
    "    X_test = Variable(X_test).cuda()\n",
    "    y_test = Variable(y_test).cuda()\n",
    "\n",
    "num_epochs = 1000\n",
    "\n",
    "total_acc, total_loss = [], []\n",
    "\n",
    "for epoch in range(num_epochs):\n",
    "    # forward propagation\n",
    "    with torch.autocast(device_type=\"cpu\", dtype=torch.bfloat16):\n",
    "        model.train()\n",
    "\n",
    "        y_pred = model(X_train)\n",
    "        pred = np.where(y_pred > 0.5, 1, 0)\n",
    "        loss = criterion(y_pred, y_train)\n",
    "    \n",
    "    # back propagation\n",
    "    optimizer.zero_grad()\n",
    "    loss.backward()\n",
    "    optimizer.step()\n",
    "    \n",
    "    if epoch % 50 == 0:\n",
    "      model.eval()\n",
    "      y_pred_test = model(X_test)\n",
    "\n",
    "      test_loss = criterion(y_pred_test, y_test)\n",
    "      total_loss.append(test_loss.item())\n",
    "\n",
    "      total = 0\n",
    "      pred = np.where(y_pred_test > 0.5, 1, 0)\n",
    "      for i in range(len(y_test)):\n",
    "        if int(y_test[i]) == int(pred[i]):\n",
    "          total += 1\n",
    "      \n",
    "      acc = total / len(y_test)\n",
    "      total_acc.append(acc)\n",
    "\n",
    "      print('Epoch [{}/{}], Train Loss: {:.5f}, Test Loss: {:.5f}, Accuracy: {:.5f}'.format(epoch, num_epochs, loss.item(), test_loss.item(), acc))\n",
    "print('\\nTraining Complete')"
   ],
   "metadata": {
    "collapsed": false,
    "ExecuteTime": {
     "end_time": "2023-10-17T09:57:31.798634700Z",
     "start_time": "2023-10-17T09:57:31.651428100Z"
    }
   },
   "id": "ade1f1d42bc43c6e"
  }
 ],
 "metadata": {
  "kernelspec": {
   "display_name": "Python 3 (ipykernel)",
   "language": "python",
   "name": "python3"
  },
  "language_info": {
   "codemirror_mode": {
    "name": "ipython",
    "version": 3
   },
   "file_extension": ".py",
   "mimetype": "text/x-python",
   "name": "python",
   "nbconvert_exporter": "python",
   "pygments_lexer": "ipython3",
   "version": "3.11.3"
  }
 },
 "nbformat": 4,
 "nbformat_minor": 5
}
